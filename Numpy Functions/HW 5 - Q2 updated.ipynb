{
 "cells": [
  {
   "cell_type": "markdown",
   "metadata": {},
   "source": [
    "## Question 2"
   ]
  },
  {
   "cell_type": "code",
   "execution_count": 74,
   "metadata": {},
   "outputs": [],
   "source": [
    "import scipy.io as sio\n",
    "import numpy as np\n",
    "import matplotlib.pyplot as plt\n",
    "import scipy.linalg as sla\n",
    "from mpl_toolkits.mplot3d import Axes3D\n",
    "import numpy.linalg as la\n",
    "import math\n",
    "\n",
    "import os \n",
    "os.chdir(r\"D:\\GitHub\\Code-Sample\\Numpy Functions\")\n",
    "\n",
    "path1 = os.getcwd()"
   ]
  },
  {
   "cell_type": "code",
   "execution_count": 75,
   "metadata": {},
   "outputs": [],
   "source": [
    "#loading data matrix X and Y\n",
    "d_face = sio.loadmat('face_emotion_data.mat', squeeze_me = True)\n",
    "X = d_face['X']\n",
    "y = d_face['y']"
   ]
  },
  {
   "cell_type": "code",
   "execution_count": 76,
   "metadata": {},
   "outputs": [],
   "source": [
    "from sklearn.model_selection import KFold\n",
    "kf8 = KFold(n_splits=8, shuffle=False)\n",
    "kf7 = KFold(n_splits=7, shuffle=False)"
   ]
  },
  {
   "cell_type": "code",
   "execution_count": 77,
   "metadata": {},
   "outputs": [],
   "source": [
    "def error_func(w, Xtest, Ytest):\n",
    "    \n",
    "    yhat = Xtest@w\n",
    "    \n",
    "    error = []\n",
    "    for i in range(len(Ytest)):\n",
    "        error.append(np.subtract(Ytest, yhat))\n",
    "        \n",
    "    return sum(error)/len(error)"
   ]
  },
  {
   "cell_type": "markdown",
   "metadata": {},
   "source": [
    "### Question 2a."
   ]
  },
  {
   "cell_type": "code",
   "execution_count": 78,
   "metadata": {},
   "outputs": [],
   "source": [
    "def truncatedSVD(X_data, y_data): \n",
    "    errors = []\n",
    " \n",
    "    import math\n",
    "    for train_index_B, test_index_B in kf8.split(X_data):\n",
    "        x_trainB = X_data[train_index_B]\n",
    "        x_holdoutB = X_data[test_index_B]\n",
    "\n",
    "        y_trainB = y_data[train_index_B]\n",
    "        y_holdoutB = y_data[test_index_B]        \n",
    "        \n",
    "        for train_index, test_index in kf7.split(x_trainB):\n",
    "            x_train = x_trainB[train_index]\n",
    "            x_test = x_trainB[test_index]\n",
    "            \n",
    "            y_train = y_trainB[train_index]\n",
    "            y_test = y_trainB[test_index]\n",
    "            \n",
    "            U, S, V = la.svd(x_train,full_matrices=False)\n",
    "            S_inv = 1/S\n",
    "            S_x = np.diag(S_inv)\n",
    "            S_x[:,1:] = 0\n",
    "            \n",
    "            min_w = V@S_x@U.T@y_train\n",
    "            #print(min_w)\n",
    "            \n",
    "            min_error = error_func(min_w, x_test, y_test)    \n",
    "            #print(min_error.shape)\n",
    "            \n",
    "            for i in range(2,10):\n",
    "                \n",
    "                Ut, St, Vt = la.svd(x_train,full_matrices=False)\n",
    "                S_invt = 1/St\n",
    "                S_xt = np.diag(S_invt)\n",
    "                S_xt[:,i:] = 0\n",
    "                w = V@S_xt@U.T@y_train\n",
    "                #print(w.shape)\n",
    "                \n",
    "                error = error_func(w, x_test, y_test)\n",
    "                #print(error.shape)\n",
    "                if((sum(error)/len(error))<(sum(min_error)/len(error))):\n",
    "                    min_w = w\n",
    "                    min_error = error\n",
    "                    \n",
    "                    \n",
    "            error_holdout = error_func(min_w, x_holdoutB, y_holdoutB)\n",
    "            errors.append(error_holdout)\n",
    "            #print(errors)\n",
    "            \n",
    "    return errors"
   ]
  },
  {
   "cell_type": "code",
   "execution_count": 79,
   "metadata": {},
   "outputs": [
    {
     "name": "stdout",
     "output_type": "stream",
     "text": [
      "56\n",
      "[-0.00583885 -0.02032973  0.02304806 -0.0296349   0.043372   -0.01156517\n",
      "  0.00634074  0.00404593 -0.00653409  0.06171246 -0.02414963  0.04552239\n",
      "  0.00570181  0.02030202 -0.00534707  0.00451263]\n"
     ]
    }
   ],
   "source": [
    "avgerror1 = truncatedSVD(X, y)\n",
    "print(len(avgerror1))\n",
    "print((sum(avgerror1)/len(avgerror1))/16)"
   ]
  },
  {
   "cell_type": "code",
   "execution_count": 80,
   "metadata": {},
   "outputs": [
    {
     "name": "stdout",
     "output_type": "stream",
     "text": [
      "The average error is: 0.11115860000000001\n"
     ]
    }
   ],
   "source": [
    "list1 = [-0.00583885, -0.02032973,  0.02304806, -0.0296349,   0.043372,   -0.01156517, 0.00634074, 0.00404593, -0.00653409, \n",
    "         0.06171246, -0.02414963,  0.04552239, 0.00570181,  0.02030202, -0.00534707,  0.00451263]\n",
    "print('The average error is:', sum(list1))"
   ]
  },
  {
   "cell_type": "markdown",
   "metadata": {},
   "source": [
    "### Question 2b."
   ]
  },
  {
   "cell_type": "code",
   "execution_count": 81,
   "metadata": {},
   "outputs": [],
   "source": [
    "def ridgeX(X_data, y_data): \n",
    "    errors = []\n",
    " \n",
    "    import math\n",
    "    for train_index_B, test_index_B in kf8.split(X_data):\n",
    "        x_trainB = X_data[train_index_B]\n",
    "        x_holdoutB = X_data[test_index_B]\n",
    "\n",
    "        y_trainB = y_data[train_index_B]\n",
    "        y_holdoutB = y_data[test_index_B]        \n",
    "        \n",
    "        for train_index, test_index in kf7.split(x_trainB):\n",
    "            x_train = x_trainB[train_index]\n",
    "            x_test = x_trainB[test_index]\n",
    "            \n",
    "            y_train = y_trainB[train_index]\n",
    "            y_test = y_trainB[test_index]\n",
    "            \n",
    "            n,m = X_data.shape\n",
    "            I = np.identity(m)\n",
    "            \n",
    "            min_w = np.linalg.inv(x_train.T@x_train + 1*I)@x_train.T@y_train\n",
    "            #print(min_w.shape)\n",
    "            min_error = error_func(min_w, x_test, y_test)    \n",
    "            #print(min_error.shape)\n",
    "            for i in range(2,10):\n",
    "                w = np.linalg.inv(x_train.T@x_train + i*I)@x_train.T@y_train\n",
    "                #print(w.shape)\n",
    "                error = error_func(w, x_test, y_test)\n",
    "                #print(error.shape)\n",
    "                if((sum(error)/len(error))<(sum(min_error)/len(error))):\n",
    "                    min_w = w\n",
    "                    min_error = error\n",
    "                    \n",
    "                    \n",
    "            error_holdout = error_func(min_w, x_holdoutB, y_holdoutB)\n",
    "            errors.append(error_holdout)\n",
    "            #print(errors)\n",
    "            \n",
    "    return errors"
   ]
  },
  {
   "cell_type": "code",
   "execution_count": 82,
   "metadata": {},
   "outputs": [
    {
     "name": "stdout",
     "output_type": "stream",
     "text": [
      "56\n",
      "[-0.00137519  0.00018683  0.0338442  -0.01023701  0.00991959 -0.00719213\n",
      "  0.00916873 -0.00318349 -0.00531116  0.02146029  0.00094617  0.00334923\n",
      "  0.00381789  0.01527255  0.0188166   0.01226629]\n"
     ]
    }
   ],
   "source": [
    "avgerror2 = ridgeX(X, y)\n",
    "print(len(avgerror2))\n",
    "print((sum(avgerror2)/len(avgerror2))/16)"
   ]
  },
  {
   "cell_type": "code",
   "execution_count": 83,
   "metadata": {},
   "outputs": [
    {
     "name": "stdout",
     "output_type": "stream",
     "text": [
      "The average error is 0.10174939000000001\n"
     ]
    }
   ],
   "source": [
    "list2 = [-0.00137519,  0.00018683,  0.0338442,  -0.01023701,  0.00991959, -0.00719213, 0.00916873, -0.00318349, \n",
    "         -0.00531116,  0.02146029,  0.00094617,  0.00334923, 0.00381789,  0.01527255,  0.0188166,   0.01226629]\n",
    "print(\"The average error is\", sum(list2))"
   ]
  },
  {
   "cell_type": "markdown",
   "metadata": {},
   "source": [
    "### Question 2c."
   ]
  },
  {
   "cell_type": "code",
   "execution_count": 84,
   "metadata": {},
   "outputs": [],
   "source": [
    "#generate random linear combination of the original 9 features\n",
    "new = X@np.random.rand(9, 3)\n",
    "\n",
    "#append it to the original X feature matrix\n",
    "X_new = np.hstack((X, new))"
   ]
  },
  {
   "cell_type": "code",
   "execution_count": 85,
   "metadata": {},
   "outputs": [
    {
     "name": "stdout",
     "output_type": "stream",
     "text": [
      "56\n",
      "[-0.00583885 -0.02032973  0.02304806 -0.0296349   0.043372   -0.01156517\n",
      "  0.00634074  0.00404593 -0.00653409  0.06171246 -0.02414963  0.04552239\n",
      "  0.00570181  0.02030202 -0.00534707  0.00451263]\n"
     ]
    }
   ],
   "source": [
    "## Repeat Experiment a\n",
    "avgerror3 = truncatedSVD(X, y)\n",
    "print(len(avgerror3))\n",
    "print((sum(avgerror3)/len(avgerror3))/16)"
   ]
  },
  {
   "cell_type": "code",
   "execution_count": 86,
   "metadata": {},
   "outputs": [
    {
     "name": "stdout",
     "output_type": "stream",
     "text": [
      "The average error is 0.11115860000000001\n"
     ]
    }
   ],
   "source": [
    "list3 = [-0.00583885, -0.02032973,  0.02304806, -0.0296349,   0.043372,   -0.01156517, 0.00634074, 0.00404593,\n",
    "         -0.00653409,  0.06171246, -0.02414963,  0.04552239, 0.00570181,  0.02030202, -0.00534707,  0.00451263]\n",
    "\n",
    "print(\"The average error is\", sum(list3))"
   ]
  },
  {
   "cell_type": "code",
   "execution_count": 72,
   "metadata": {},
   "outputs": [
    {
     "name": "stdout",
     "output_type": "stream",
     "text": [
      "56\n",
      "[-0.00137519  0.00018683  0.0338442  -0.01023701  0.00991959 -0.00719213\n",
      "  0.00916873 -0.00318349 -0.00531116  0.02146029  0.00094617  0.00334923\n",
      "  0.00381789  0.01527255  0.0188166   0.01226629]\n"
     ]
    }
   ],
   "source": [
    "## Repeat Experiment b\n",
    "avgerror4 = ridgeX(X, y)\n",
    "print(len(avgerror4))\n",
    "print((sum(avgerror4)/len(avgerror4))/16)"
   ]
  },
  {
   "cell_type": "code",
   "execution_count": 73,
   "metadata": {},
   "outputs": [
    {
     "name": "stdout",
     "output_type": "stream",
     "text": [
      "The average error is 0.10174939000000001\n"
     ]
    }
   ],
   "source": [
    "list4 = [-0.00137519,  0.00018683,  0.0338442,  -0.01023701,  0.00991959, -0.00719213, 0.00916873, -0.00318349,\n",
    "         -0.00531116,  0.02146029,  0.00094617,  0.00334923, 0.00381789, 0.01527255, 0.0188166, 0.01226629]\n",
    "\n",
    "print(\"The average error is\", sum(list4))"
   ]
  }
 ],
 "metadata": {
  "kernelspec": {
   "display_name": "Python 3",
   "language": "python",
   "name": "python3"
  },
  "language_info": {
   "codemirror_mode": {
    "name": "ipython",
    "version": 3
   },
   "file_extension": ".py",
   "mimetype": "text/x-python",
   "name": "python",
   "nbconvert_exporter": "python",
   "pygments_lexer": "ipython3",
   "version": "3.7.6"
  }
 },
 "nbformat": 4,
 "nbformat_minor": 4
}
